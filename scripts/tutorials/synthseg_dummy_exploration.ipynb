{
 "cells": [
  {
   "cell_type": "markdown",
   "metadata": {},
   "source": [
    "## Using synthseg for multi_modal input"
   ]
  },
  {
   "cell_type": "code",
   "execution_count": 2,
   "metadata": {},
   "outputs": [],
   "source": [
    "import numpy as np\n",
    "import os\n"
   ]
  },
  {
   "cell_type": "markdown",
   "metadata": {},
   "source": [
    "Path: To the numpy arrays that were given as segmentation labels"
   ]
  },
  {
   "cell_type": "code",
   "execution_count": 1,
   "metadata": {},
   "outputs": [],
   "source": [
    "numpy_labels_folder = '/local_mount/space/ladyyy/data/users/ashwink/python-codebases/SynthSeg/Example_Data/numpy_arrays'\n"
   ]
  },
  {
   "cell_type": "code",
   "execution_count": 4,
   "metadata": {},
   "outputs": [
    {
     "name": "stdout",
     "output_type": "stream",
     "text": [
      "\n",
      "generation_classes.npy\n",
      "[ 0  1  2  3  4  5  6  7  8  9 10 11 12  3 13 14 15  6  4 16 17 18 18 19\n",
      " 20 21 22 23 24 25 25 26 27 28 29 30 30 31 32 33 33 34 35 36 37 38 39 40\n",
      " 40 41 42 43 44 45 45]\n",
      "\n",
      "generation_labels.npy\n",
      "[  0  14  15  16  24  72  85 502 506 507 508 509 511 512 514 515 516 530\n",
      " 531   2   3   4   5   7   8  10  11  12  13  17  18  25  26  28  30 136\n",
      " 137  41  42  43  44  46  47  49  50  51  52  53  54  57  58  60  62 163\n",
      " 164]\n",
      "\n",
      "segmentation_labels.npy\n",
      "[ 0 14 15 16 24  0  0  0  0  0  0  0  0  0  0  0  0  0  0  2  3  4  5  7\n",
      "  8 10 11 12 13 17 18  2 26 28  0  4  5 41 42 43 44 46 47 49 50 51 52 53\n",
      " 54 41 58 60  0 43 44]\n",
      "\n",
      "segmentation_names.npy\n",
      "['background' '3rd ventricle' '4th ventricle' 'brain-stem' 'background'\n",
      " 'background' 'background' 'background' 'background' 'background'\n",
      " 'background' 'background' 'background' 'background' 'background'\n",
      " 'background' 'background' 'background' 'background'\n",
      " 'left cerebral white matter' 'left cerebral cortex'\n",
      " 'left lateral ventricle' 'left inferior lateral ventricle'\n",
      " 'left cerebellum white matter' 'left cerebellum cortex' 'left thalamus'\n",
      " 'left caudate' 'left putamen' 'left pallidum' 'left hippocampus'\n",
      " 'left amygdala' 'left cerebral white matter' 'left accumbens area'\n",
      " 'left ventral DC' 'background' 'left lateral ventricle'\n",
      " 'left inferior lateral ventricle' 'right cerebral white matter'\n",
      " 'right cerebral cortex' 'right lateral ventricle'\n",
      " 'right inferior lateral ventricle' 'right cerebellum white matter'\n",
      " 'right cerebellum cortex' 'right thalamus' 'right caudate'\n",
      " 'right putamen' 'right pallidum' 'right hippocampus' 'right amygdala'\n",
      " 'right cerebral white matter' 'right accumbens area' 'right ventral DC'\n",
      " 'background' 'right lateral ventricle' 'right inferior lateral ventricle']\n",
      "\n",
      "topology.npy\n",
      "[ 0  1  2  3  0  0  0  0  0  0  0  0  0  0  0  0  0  0  0  4  4  4  4  5\n",
      "  5  6  7  8  9 10 11  4 12 13  0  4  4 14 14 14 14 15 15 16 17 18 19 20\n",
      " 21 14 22 23  0 14 14]\n"
     ]
    }
   ],
   "source": [
    "\n",
    "for file in os.listdir(numpy_labels_folder):\n",
    "    print(f'\\n{file}')\n",
    "    ld_data = np.load(os.path.join(numpy_labels_folder, file))\n",
    "    print(ld_data)"
   ]
  },
  {
   "cell_type": "code",
   "execution_count": 5,
   "metadata": {},
   "outputs": [
    {
     "name": "stdout",
     "output_type": "stream",
     "text": [
      "[  0  14  15  16  24  72  85 502 506 507 508 509 511 512 514 515 516 530\n",
      "   2   3   4   5   7   8  10  11  12  13  17  18  25  26  28  30 136 137\n",
      "  41  42  43  44  46  47  49  50  51  52  53  54  57  58  60  62 163 164]\n"
     ]
    }
   ],
   "source": [
    "generation_labels = '../../data/labels_classes_priors/generation_labels.npy'\n",
    "\n",
    "print(np.load(generation_labels))"
   ]
  },
  {
   "cell_type": "code",
   "execution_count": 25,
   "metadata": {},
   "outputs": [],
   "source": [
    "myDict = {'generation_classes' : [os.path.join(numpy_labels_folder, 'generation_classes.npy'), '../../data/labels_classes_priors/generation_classes.npy'],\n",
    " 'generation_labels': [os.path.join(numpy_labels_folder, 'generation_labels.npy'), '../../data/labels_classes_priors/generation_labels.npy'],\n",
    " 'segmentation_labels': [os.path.join(numpy_labels_folder, 'segmentation_labels.npy'), '../../data/labels_classes_priors/synthseg_segmentation_labels.npy'],\n",
    " 'names': [os.path.join(numpy_labels_folder, 'segmentation_names.npy'), '../../data/labels_classes_priors/synthseg_segmentation_names.npy']}"
   ]
  },
  {
   "cell_type": "code",
   "execution_count": 26,
   "metadata": {},
   "outputs": [
    {
     "name": "stdout",
     "output_type": "stream",
     "text": [
      "\n",
      "/local_mount/space/ladyyy/data/users/ashwink/python-codebases/SynthSeg/Example_Data/numpy_arrays/generation_classes.npy\n",
      "[ 0  1  2  3  4  5  6  7  8  9 10 11 12  3 13 14 15  6  4 16 17 18 18 19\n",
      " 20 21 22 23 24 25 25 26 27 28 29 30 30 31 32 33 33 34 35 36 37 38 39 40\n",
      " 40 41 42 43 44 45 45]\n",
      "\n",
      "../../data/labels_classes_priors/generation_classes.npy\n",
      "[ 0  1  2  3  4  5  6  7  8  9 10 11 12 13 14 15 16 17 18 19 20 20 21 22\n",
      " 23 24 25 26 27 27 28 29 30 31 32 32 33 34 35 35 36 37 38 39 40 41 42 42\n",
      " 43 44 45 46 47 47]\n",
      "\n",
      "/local_mount/space/ladyyy/data/users/ashwink/python-codebases/SynthSeg/Example_Data/numpy_arrays/generation_labels.npy\n",
      "[  0  14  15  16  24  72  85 502 506 507 508 509 511 512 514 515 516 530\n",
      " 531   2   3   4   5   7   8  10  11  12  13  17  18  25  26  28  30 136\n",
      " 137  41  42  43  44  46  47  49  50  51  52  53  54  57  58  60  62 163\n",
      " 164]\n",
      "\n",
      "../../data/labels_classes_priors/generation_labels.npy\n",
      "[  0  14  15  16  24  72  85 502 506 507 508 509 511 512 514 515 516 530\n",
      "   2   3   4   5   7   8  10  11  12  13  17  18  25  26  28  30 136 137\n",
      "  41  42  43  44  46  47  49  50  51  52  53  54  57  58  60  62 163 164]\n",
      "\n",
      "/local_mount/space/ladyyy/data/users/ashwink/python-codebases/SynthSeg/Example_Data/numpy_arrays/segmentation_labels.npy\n",
      "[ 0 14 15 16 24  0  0  0  0  0  0  0  0  0  0  0  0  0  0  2  3  4  5  7\n",
      "  8 10 11 12 13 17 18  2 26 28  0  4  5 41 42 43 44 46 47 49 50 51 52 53\n",
      " 54 41 58 60  0 43 44]\n",
      "\n",
      "../../data/labels_classes_priors/synthseg_segmentation_labels.npy\n",
      "[ 0 14 15 16  0  0  0  0  0  0  0  0  0  0  0  0  0  0  2  3  4  5  7  8\n",
      " 10 11 12 13 17 18  2 26 28  0  4  5 41 42 43 44 46 47 49 50 51 52 53 54\n",
      " 41 58 60  0 43 44]\n",
      "\n",
      "/local_mount/space/ladyyy/data/users/ashwink/python-codebases/SynthSeg/Example_Data/numpy_arrays/segmentation_names.npy\n",
      "['background' '3rd ventricle' '4th ventricle' 'brain-stem' 'background'\n",
      " 'background' 'background' 'background' 'background' 'background'\n",
      " 'background' 'background' 'background' 'background' 'background'\n",
      " 'background' 'background' 'background' 'background'\n",
      " 'left cerebral white matter' 'left cerebral cortex'\n",
      " 'left lateral ventricle' 'left inferior lateral ventricle'\n",
      " 'left cerebellum white matter' 'left cerebellum cortex' 'left thalamus'\n",
      " 'left caudate' 'left putamen' 'left pallidum' 'left hippocampus'\n",
      " 'left amygdala' 'left cerebral white matter' 'left accumbens area'\n",
      " 'left ventral DC' 'background' 'left lateral ventricle'\n",
      " 'left inferior lateral ventricle' 'right cerebral white matter'\n",
      " 'right cerebral cortex' 'right lateral ventricle'\n",
      " 'right inferior lateral ventricle' 'right cerebellum white matter'\n",
      " 'right cerebellum cortex' 'right thalamus' 'right caudate'\n",
      " 'right putamen' 'right pallidum' 'right hippocampus' 'right amygdala'\n",
      " 'right cerebral white matter' 'right accumbens area' 'right ventral DC'\n",
      " 'background' 'right lateral ventricle' 'right inferior lateral ventricle']\n",
      "\n",
      "../../data/labels_classes_priors/synthseg_segmentation_names.npy\n",
      "['background' '3rd ventricle' '4th ventricle' 'brain-stem' 'background'\n",
      " 'background' 'background' 'background' 'background' 'background'\n",
      " 'background' 'background' 'background' 'background' 'background'\n",
      " 'background' 'background' 'background' 'left cerebral white matter'\n",
      " 'left cerebral cortex' 'left lateral ventricle'\n",
      " 'left inferior lateral ventricle' 'left cerebellum white matter'\n",
      " 'left cerebellum cortex' 'left thalamus' 'left caudate' 'left putamen'\n",
      " 'left pallidum' 'left hippocampus' 'left amygdala'\n",
      " 'left cerebral white matter' 'left accumbens area' 'left ventral DC'\n",
      " 'background' 'left lateral ventricle' 'left inferior lateral ventricle'\n",
      " 'right cerebral white matter' 'right cerebral cortex'\n",
      " 'right lateral ventricle' 'right inferior lateral ventricle'\n",
      " 'right cerebellum white matter' 'right cerebellum cortex'\n",
      " 'right thalamus' 'right caudate' 'right putamen' 'right pallidum'\n",
      " 'right hippocampus' 'right amygdala' 'right cerebral white matter'\n",
      " 'right accumbens area' 'right ventral DC' 'background'\n",
      " 'right lateral ventricle' 'right inferior lateral ventricle']\n"
     ]
    }
   ],
   "source": [
    "arrLst = []\n",
    "for key in myDict.keys():\n",
    "    for fileName in myDict[key]:\n",
    "        print(f'\\n{fileName}')\n",
    "        print(np.load(fileName))\n",
    "        arrLst.append(np.load(fileName))"
   ]
  },
  {
   "cell_type": "code",
   "execution_count": 23,
   "metadata": {},
   "outputs": [
    {
     "data": {
      "text/plain": [
       "array([ 0,  0,  0,  0,  0,  0,  0,  0,  0,  0,  0,  0,  0,  0,  0,  0,  0,\n",
       "        2,  2,  3,  4,  4,  5,  5,  7,  8, 10, 11, 12, 13, 14, 15, 16, 17,\n",
       "       18, 26, 28, 41, 41, 42, 43, 43, 44, 44, 46, 47, 49, 50, 51, 52, 53,\n",
       "       54, 58, 60], dtype=int32)"
      ]
     },
     "execution_count": 23,
     "metadata": {},
     "output_type": "execute_result"
    }
   ],
   "source": [
    "np.sort(arrLst[5])"
   ]
  },
  {
   "cell_type": "code",
   "execution_count": 24,
   "metadata": {},
   "outputs": [
    {
     "name": "stdout",
     "output_type": "stream",
     "text": [
      "generation_classes.npy\n",
      "generation_classes_contrast_specific.npy\n",
      "generation_labels.npy\n",
      "prior_means_t1.npy\n",
      "prior_stds_t1.npy\n",
      "synthseg_denoiser_labels_2.0.npy\n",
      "synthseg_parcellation_labels.npy\n",
      "synthseg_parcellation_names.npy\n",
      "synthseg_qc_labels.npy\n",
      "synthseg_qc_labels_2.0.npy\n",
      "synthseg_qc_names.npy\n",
      "synthseg_qc_names_2.0.npy\n",
      "synthseg_segmentation_labels.npy\n",
      "synthseg_segmentation_labels_2.0.npy\n",
      "synthseg_segmentation_names.npy\n",
      "synthseg_segmentation_names_2.0.npy\n",
      "synthseg_topological_classes.npy\n",
      "synthseg_topological_classes_2.0.npy\n"
     ]
    }
   ],
   "source": [
    "for file in os.listdir('../../data/labels_classes_priors'):\n",
    "    print(file)"
   ]
  },
  {
   "cell_type": "code",
   "execution_count": 27,
   "metadata": {},
   "outputs": [
    {
     "name": "stdout",
     "output_type": "stream",
     "text": [
      "20\n"
     ]
    }
   ],
   "source": [
    "print(len(['background', '3rd ventricle', '4th ventricle', 'brain-stem', 'background',\n",
    " 'background', 'background', 'background', 'background', 'background',\n",
    " 'background', 'background', 'background', 'background', 'background',\n",
    " 'background', 'background', 'background', 'background', 'background']\n",
    "))"
   ]
  },
  {
   "cell_type": "code",
   "execution_count": 28,
   "metadata": {},
   "outputs": [
    {
     "name": "stdout",
     "output_type": "stream",
     "text": [
      "[[  7.          44.43852646 160.29378443  96.29526152 135.95211069\n",
      "   88.15506261 129.52385575 124.05468047 151.79945792 142.53280645\n",
      "  116.10473738  86.83433108  59.62853626 129.78496267 126.37696696\n",
      "   18.11697145  93.90532281 117.13488728  69.91289748 113.7338777\n",
      "   68.23628889  48.42668289  30.19849003  94.24268292 144.4557237 ]\n",
      " [  1.75        11.21000137  21.65584467  12.17831661  13.41123838\n",
      "   10.55970441  17.68538813  15.72768241  19.51073198  16.05725779\n",
      "   14.8217615   17.47509896  10.4086569   12.2351825   24.79729954\n",
      "    3.8432211    9.12899967  11.66694586   9.24940558  12.41801427\n",
      "   11.09552493   8.56551669   6.86072804  18.31996116  16.31849085]]\n"
     ]
    }
   ],
   "source": [
    "prior_means = '../../data/labels_classes_priors/prior_means_t1.npy'\n",
    "print(np.load(prior_means))"
   ]
  },
  {
   "cell_type": "code",
   "execution_count": 29,
   "metadata": {},
   "outputs": [
    {
     "name": "stdout",
     "output_type": "stream",
     "text": [
      "[[ 5.         25.56555604 15.63223578 18.91828816 15.34013798 17.0927207\n",
      "  19.58860262 13.80592264  8.55665307 21.12773275 19.45680845 17.16671351\n",
      "  23.65403494 17.53320268 83.95184226 13.85991432 48.60145092 64.79087693\n",
      "  25.46535693 74.86602865 35.85704951 19.91995259 22.02396817 43.32055828\n",
      "  44.67356303]\n",
      " [ 2.5         9.84077093  5.4766559   6.30533628  5.66143704  5.49186669\n",
      "   7.77360196  7.14559388  4.0713724   6.95113295  7.16935378  8.50840946\n",
      "  11.08318495  6.78425838 49.36716792  7.43989638 12.55663226 28.51496213\n",
      "  13.1352998  20.46649412 18.35410649  8.99943988 11.59856222 20.13599184\n",
      "  26.21142801]]\n"
     ]
    }
   ],
   "source": [
    "prior_stds = '../../data/labels_classes_priors/prior_stds_t1.npy'\n",
    "print(np.load(prior_stds))"
   ]
  },
  {
   "cell_type": "code",
   "execution_count": 37,
   "metadata": {},
   "outputs": [],
   "source": [
    "# Concatenate the numpy arrays from the MRF input\n",
    "\n",
    "import nibabel as nib\n",
    "\n",
    "mrfDirPath = '/local_mount/space/ladyyy/data/users/ashwink/sophie_mrf_data/NNUNET/nnUNet_raw/Dataset001_MRF/imagesTr'\n",
    "save_dir = '/local_mount/space/ladyyy/data/users/ashwink/python-codebases/SynthSeg/scripts/tutorials/image_folder/multi_modal_mrf'\n",
    "\n",
    "for i in range(1, 11):\n",
    "    fileList = []\n",
    "    for filename in os.listdir(mrfDirPath):\n",
    "        if filename.startswith('MRF_00{}'.format(str(i))):\n",
    "            fileList.append(filename)\n",
    "\n",
    "    concatenated_data = np.zeros(shape=(256, 256, 256, 9))\n",
    "    for j, file in enumerate(fileList):\n",
    "        concatenated_data[..., j] = nib.load(os.path.join(mrfDirPath, file)).get_fdata()\n",
    "\n",
    "    nib_img = nib.Nifti1Image(concatenated_data, affine=np.eye(4))\n",
    "    nib.save(nib_img, os.path.join(save_dir, f'MRF_00{i}.nii.gz'))"
   ]
  },
  {
   "cell_type": "code",
   "execution_count": 40,
   "metadata": {},
   "outputs": [],
   "source": [
    "# Copy the labels maps and save them\n",
    "\n",
    "SUBJS=np.array(['H11','H08','H12','H07','H13','H04','H14',\n",
    "                'H15','H10', 'H02', 'H16','H17','H18','H06'])\n",
    "\n",
    "train_length = int(0.8 * len(SUBJS))\n",
    "SUBJS_TRAIN = SUBJS[:train_length]\n",
    "SUBJS_TEST = SUBJS[train_length:] \n",
    "\n",
    "single_freq_mprage_dir = '/local_mount/space/ladyyy/data/users/ashwink/sophie_mrf_data/mprage/SINGLE_OFFSET_MPRAGE'\n",
    "save_label_dir = '/local_mount/space/ladyyy/data/users/ashwink/python-codebases/SynthSeg/scripts/tutorials/image_folder/multi_modal_mrf_labels'\n",
    "\n",
    "\n",
    "# Load it and copy it over to the same domain\n",
    "\n",
    "for i, subj in enumerate(SUBJS_TRAIN):\n",
    "    seg = nib.load(os.path.join(single_freq_mprage_dir, f'aseg_{subj}_actual.mgz'))\n",
    "    seg_rotate = np.rot90(seg.get_fdata().astype(np.ushort), k=3, axes=(1,2))\n",
    "    seg_flip = np.flip(seg_rotate, axis=0)\n",
    "\n",
    "    nib_img = nib.Nifti1Image(seg_flip, affine=np.eye(4))\n",
    "    nib.save(nib_img, os.path.join(save_label_dir, f'MRF_00{i + 1}.nii.gz'))"
   ]
  },
  {
   "cell_type": "code",
   "execution_count": null,
   "metadata": {},
   "outputs": [],
   "source": [
    "# Printing out the output from means and std calculation\n",
    "\n",
    "prior_means_and_std_out = '/local_mount/space/ladyyy/data/users/ashwink/python-codebases/SynthSeg/scripts/tutorials/outputs_tutorial_6/estimated_priors_multi_modal'\n",
    "\n",
    "for arr in os.listdir(prior_means_and_std_out):\n",
    "    print(f'\\n{arr}')\n",
    "    print(np.load(os.path.join(prior_means_and_std_out, arr)))"
   ]
  },
  {
   "cell_type": "code",
   "execution_count": 50,
   "metadata": {},
   "outputs": [],
   "source": [
    "# Generate validation files that concatenate the array\n",
    "\n",
    "save_val_dir = '/local_mount/space/ladyyy/data/users/ashwink/python-codebases/SynthSeg/scripts/tutorials/image_folder/multi_modal_mrf_val'\n",
    "\n",
    "for i in range(11, 12):\n",
    "    fileList = []\n",
    "    for filename in os.listdir(mrfDirPath):\n",
    "        if filename.startswith('MRF_00{}'.format(str(i))):\n",
    "            fileList.append(filename)\n",
    "\n",
    "    concatenated_data = np.zeros(shape=(256, 256, 256, 9))\n",
    "    for j, file in enumerate(fileList):\n",
    "        concatenated_data[..., j] = nib.load(os.path.join(mrfDirPath, file)).get_fdata()\n",
    "\n",
    "    nib_img = nib.Nifti1Image(concatenated_data, affine=np.eye(4))\n",
    "    nib.save(nib_img, os.path.join(save_val_dir, f'MRF_{SUBJS_TRAIN[i-1]}.nii.gz'))\n",
    "\n",
    "mrfDirPathVal = '/local_mount/space/ladyyy/data/users/ashwink/sophie_mrf_data/NNUNET/nnUNet_raw/Dataset001_MRF/imagesTs'\n",
    "\n",
    "for i in range(12, 15):\n",
    "    fileList = []\n",
    "    for filename in os.listdir(mrfDirPathVal):\n",
    "        if filename.startswith('MRF_00{}'.format(str(i))):\n",
    "            fileList.append(filename)\n",
    "\n",
    "    concatenated_data = np.zeros(shape=(256, 256, 256, 9))\n",
    "    for j, file in enumerate(fileList):\n",
    "        concatenated_data[..., j] = nib.load(os.path.join(mrfDirPathVal, file)).get_fdata()\n",
    "\n",
    "    nib_img = nib.Nifti1Image(concatenated_data, affine=np.eye(4))\n",
    "    nib.save(nib_img, os.path.join(save_val_dir, f'MRF_{SUBJS_TEST[i-12]}.nii.gz'))"
   ]
  },
  {
   "cell_type": "code",
   "execution_count": 51,
   "metadata": {},
   "outputs": [],
   "source": [
    "# Do processing on the label files in the dataset\n",
    "\n",
    "single_freq_mprage_dir = '/local_mount/space/ladyyy/data/users/ashwink/sophie_mrf_data/mprage/SINGLE_OFFSET_MPRAGE'\n",
    "save_label_dir = '/local_mount/space/ladyyy/data/users/ashwink/python-codebases/SynthSeg/scripts/tutorials/image_folder/multi_modal_mrf_val_labels'\n",
    "\n",
    "\n",
    "# Load it and copy it over to the same domain\n",
    "for i, subj in enumerate(SUBJS_TRAIN[:1]):\n",
    "    seg = nib.load(os.path.join(single_freq_mprage_dir, f'aseg_{subj}_actual.mgz'))\n",
    "    seg_rotate = np.rot90(seg.get_fdata().astype(np.ushort), k=3, axes=(1,2))\n",
    "    seg_flip = np.flip(seg_rotate, axis=0)\n",
    "\n",
    "    nib_img = nib.Nifti1Image(seg_flip, affine=np.eye(4))\n",
    "    nib.save(nib_img, os.path.join(save_label_dir, f'MRF_{subj}.nii.gz'))\n",
    "\n",
    "for i, subj in enumerate(SUBJS_TEST):\n",
    "    seg = nib.load(os.path.join(single_freq_mprage_dir, f'aseg_{subj}_actual.mgz'))\n",
    "    seg_rotate = np.rot90(seg.get_fdata().astype(np.ushort), k=3, axes=(1,2))\n",
    "    seg_flip = np.flip(seg_rotate, axis=0)\n",
    "\n",
    "    nib_img = nib.Nifti1Image(seg_flip, affine=np.eye(4))\n",
    "    nib.save(nib_img, os.path.join(save_label_dir, f'MRF_{subj}.nii.gz'))"
   ]
  }
 ],
 "metadata": {
  "kernelspec": {
   "display_name": "ash-pop-env",
   "language": "python",
   "name": "python3"
  },
  "language_info": {
   "codemirror_mode": {
    "name": "ipython",
    "version": 3
   },
   "file_extension": ".py",
   "mimetype": "text/x-python",
   "name": "python",
   "nbconvert_exporter": "python",
   "pygments_lexer": "ipython3",
   "version": "3.10.12"
  },
  "orig_nbformat": 4
 },
 "nbformat": 4,
 "nbformat_minor": 2
}
